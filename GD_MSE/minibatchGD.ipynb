{
 "cells": [
  {
   "cell_type": "markdown",
   "metadata": {},
   "source": [
    "# Describing functions"
   ]
  },
  {
   "cell_type": "markdown",
   "metadata": {},
   "source": [
    "\n",
    "\n",
    "The maxima and minima of a function are the largest and smallest value of the function.\n",
    "If these values are the largest and smallest within a given range - these are the local maxima and minima of the function. If these values are the largest and smallest on the entire domain of a function - these are global maxima and minima of the function. "
   ]
  },
  {
   "cell_type": "markdown",
   "metadata": {},
   "source": [
    "<img src=\"../../Material-for-MLpython-course/GD_MSE/Maxima_and_Minima.png\" alt=\"Drawing\" style=\"width: 600px;\"/>"
   ]
  },
  {
   "cell_type": "markdown",
   "metadata": {},
   "source": [
    "We can also describe the shape of the function by finding derivative of the functions. [Derivative](https://en.wikipedia.org/wiki/Derivative) describes rate of the change of function respectively to change of its arument. Geometrically, **first derivative** of the function  can be interpreted as a **slope of the tangent line** at a certain point. The tangent line is the best linear approximation of the function near that input value ([see examples here](https://openstax.org/books/calculus-volume-1/pages/4-2-linear-approximations-and-differentials)).\n",
    "\n",
    "The [tangent](https://en.wikipedia.org/wiki/Tangent) line to a plane curve at a given point is the straight line that \"just touches\" the curve at that point. It is the line through a pair of infinitely close points on the curve."
   ]
  },
  {
   "cell_type": "markdown",
   "metadata": {},
   "source": [
    "<img src=\"../../Material-for-MLpython-course/GD_MSE/tangent.jpg\" alt=\"Drawing\" style=\"width: 1000px;\"/>"
   ]
  },
  {
   "cell_type": "markdown",
   "metadata": {},
   "source": [
    "For function y = $f(x)$ derivative of the function with respect to x is commonly written as \t\n",
    "\n",
    "$\\frac{\\huge dy}{\\huge dx}\\ \\ \\ $       or      $ \\ \\ \\ \\huge f'(x)$"
   ]
  },
  {
   "cell_type": "markdown",
   "metadata": {},
   "source": [
    "The first derivative of the function is positive if the function is increasing and negative if it is decreasing.\n",
    "\n",
    "![SegmentLocal](../../Material-for-MLpython-course/GD_MSE/Tangent_function_animation.gif \"segment\")"
   ]
  },
  {
   "cell_type": "markdown",
   "metadata": {},
   "source": [
    "Moreover, when first derivative of the function at a point is zero (or the slope of the tangent line is zero) it indicates extrema (minimum or maximum of the function) at this point.\n",
    "\n",
    "Therefore, to find the minimum or maximum of the function, we should find the argument where $f'(x) = 0$.\n",
    "Note, that some functions might be continuous, but not differentiable at a certain interval or at any point ($f'(x)$ undefined) [link](https://openstax.org/books/calculus-volume-1/pages/4-5-derivatives-and-the-shape-of-a-graph).\n",
    "\n",
    "\n",
    "\n",
    "<img src=\"../../Material-for-MLpython-course/GD_MSE/derivative2.jpeg\" alt=\"Drawing\" style=\"width: 600px;\"/>"
   ]
  },
  {
   "cell_type": "markdown",
   "metadata": {},
   "source": [
    "In addition, second derivative describes the rate of change of the first derivative  and therefore, the  curvature or concavity of the function (see more [here](https://openstax.org/books/calculus-volume-1/pages/4-5-derivatives-and-the-shape-of-a-graph) and [here](https://en.wikipedia.org/wiki/Second_derivative)).\n",
    "From physics perspective the first derivative can be seen as an object velocity and the second derivative is acceleration. \n",
    "\n",
    "<img src=\"../../Material-for-MLpython-course/GD_MSE/derivative3.jpeg\" alt=\"Drawing\" style=\"width: 600px;\"/>\n"
   ]
  },
  {
   "cell_type": "markdown",
   "metadata": {},
   "source": [
    "# Find the minimum\n",
    "\n",
    "The objective of many ML algorithms is to minimize loss function or find a global minimum of a loss function. There are variety of methods to find the minimum of the function. Let's take a look at some of them. "
   ]
  },
  {
   "cell_type": "markdown",
   "metadata": {},
   "source": [
    "introduce some iterative root-finding algorithms"
   ]
  },
  {
   "cell_type": "markdown",
   "metadata": {},
   "source": [
    "### Gradient descent"
   ]
  },
  {
   "cell_type": "markdown",
   "metadata": {},
   "source": [
    "GD of MSE loss function"
   ]
  },
  {
   "cell_type": "markdown",
   "metadata": {},
   "source": [
    "**<center><font size=\"4\">Differentiation rules</font></center>**\n",
    "\n",
    "$\\frac{\\large d}{\\large dx} \\large (c) = 0$  \n",
    "\\\n",
    "$\\frac{\\large d}{\\large dx} \\large (x) = 1$ \n",
    "\\\n",
    "\\\n",
    "$\\frac{\\large d}{\\large dx} \\large (cx) = c$ \n",
    "\\\n",
    "\\\n",
    "$\\frac{\\large d}{\\large dx} \\large (x^r) = rx^{r-1}$ \n",
    "\\\n",
    "\\\n",
    "$\\frac{\\large d}{\\large dx} \\large [f(g(x))] = f'(g(x))g'(x)$ \n",
    "\n",
    "\n"
   ]
  },
  {
   "cell_type": "markdown",
   "metadata": {},
   "source": [
    "MSE loss function for linear predictor $y = wx$\n",
    "\n",
    "$$\\mathcal{E} (\\mathbf{w}) = (1/m) \\sum^{m}_{i=1}(y^{(i)} - \\hat{y}^{(i)})^2$$\n",
    "\n",
    "\n",
    "$$\\mathcal{E} (\\mathbf{w}) = (1/m) \\sum^{m}_{i=1}(y^{(i)} - \\mathbf{w}^{T} \\mathbf{x}^{(i)})^2$$\n",
    "\n",
    "\n",
    "Let's consider a simplest case, where we have only 1 feature $x^{(i)}$ for $i$-th datapoint. The true label of this data point is $y^{(i)}$ and prediction is $\\hat y^{(i)} = wx^{(i)}$, where $w$ is the weight. We will skip indices of the datapoints for better readability.\n",
    "\n",
    "Squared prediction error for $i$-th data point $\\mathcal{E}$: \n",
    "\n",
    "$$\\large \\mathcal{E} = (y - \\hat y)^2$$\n",
    "\n",
    "$$\\large \\mathcal{E} = (y - w x)^2$$\n",
    "\n",
    "Now we want to estimate how the function (squared prediction errors $\\mathcal{E}$) change respectively to the change of the weight. Therefore, we will take partial derivative of $\\mathcal{E}$ with respect to $w$. This means, that we will treat $y$ and $x$ as a constants (read more [here](https://www.mathsisfun.com/calculus/derivatives-partial.html) about partial derivatives).\n",
    "\n",
    "Apply chain and power rules:\n",
    "\n",
    "$$\\frac{\\large \\partial}{\\large \\partial w} \\large \\mathcal{E} = ((y - {w}{x})^2)'(y - {w}{x})' =$$ \n",
    "\n",
    "$$\\large = 2(y - {w}{x})(0 - x) =$$\n",
    "\n",
    "$$\\large = -2x(y - {w}{x})$$\n",
    "\n"
   ]
  },
  {
   "cell_type": "markdown",
   "metadata": {},
   "source": [
    "include partial der of bias\n",
    "\n",
    "deriivative and summation\n",
    "\n",
    "Illustrate with pic\n",
    "\n",
    "Introduce gradient\n",
    "\n",
    "Introduce plain GD algorithm"
   ]
  },
  {
   "cell_type": "markdown",
   "metadata": {},
   "source": [
    "### Minibatch and stochastic gradient descent"
   ]
  },
  {
   "cell_type": "markdown",
   "metadata": {},
   "source": [
    "Batch size = number of datapoints (100)\n",
    "![SegmentLocal](../../Material-for-MLpython-course/GD_MSE/minibatchGD1.gif \"segment\")\n",
    "Batch size = 5% of total number of datapoints (5)\n",
    "![SegmentLocal](../../Material-for-MLpython-course/GD_MSE/minibatchGD2_2.gif \"segment\")"
   ]
  },
  {
   "cell_type": "code",
   "execution_count": 1,
   "metadata": {},
   "outputs": [],
   "source": [
    "import numpy as np\n",
    "import matplotlib.pyplot as plt\n",
    "from sklearn import linear_model \n",
    "from sklearn.datasets import make_regression \n",
    "\n",
    "# generate some synthetic dataset\n",
    "np.random.seed(42)\n",
    "X =  np.random.randint(0,100,(100,1))\n",
    "y =  (3*X[:,0]+np.random.randint(50,300,100)).reshape(-1,1)\n",
    "\n",
    "# create Linear Regression model using an intercept term \n",
    "reg_intercept = linear_model.LinearRegression(fit_intercept=True) \n",
    "# fit a linear regression model (with intercept)\n",
    "reg_intercept = reg_intercept.fit(X, y)\n",
    "\n",
    "# idealw = reg_intercept.coef_\n",
    "# idealb = reg_intercept.intercept_\n",
    "# idealMSE = np.mean((y - (idealw*X+idealb))**2)"
   ]
  },
  {
   "cell_type": "code",
   "execution_count": 2,
   "metadata": {},
   "outputs": [],
   "source": [
    "def batch(X,y,batchSize):\n",
    "    for i in range(0,X.shape[0],batchSize):\n",
    "        yield (X[i:i + batchSize], y[i:i + batchSize])"
   ]
  },
  {
   "cell_type": "code",
   "execution_count": 3,
   "metadata": {},
   "outputs": [],
   "source": [
    "def grad_descent(X,y,weights,bias,lrate):\n",
    "    \n",
    "    # number of features n\n",
    "    # number of datapoints m\n",
    "    n = X.shape[1]\n",
    "    m = X.shape[0]\n",
    "\n",
    "    # Performing Gradient Descent  \n",
    "\n",
    "    y_hat     = np.dot(X, weights)+bias  # The current predicted value of y  \n",
    "    der_w     = (-2/m)*np.dot(X.T,(y - y_hat))  # Derivative of MSE Loss function wrt w\n",
    "    der_bias  = (-2/m)*sum(y - y_hat)          # Derivative of MSE Loss function wrt bias \n",
    "    weights   = weights - lrate* der_w           # Update weight\n",
    "    bias      = bias - lrate* der_bias           # Update intercept/bias\n",
    "\n",
    "    MSE = np.mean((y - y_hat)**2)\n",
    " \n",
    "    return weights, bias, MSE "
   ]
  },
  {
   "cell_type": "code",
   "execution_count": 4,
   "metadata": {
    "scrolled": false
   },
   "outputs": [],
   "source": [
    "def minibatchGD(X,y,batchSize,epoches, lrate):  \n",
    "    \n",
    "    weights    = np.zeros((X.shape[1],1))\n",
    "    bias       = np.zeros((1,1))\n",
    "    \n",
    "    loss       = []\n",
    "    batch_loss = []\n",
    "\n",
    "    for i in range(epoches):\n",
    "        for X_batch,y_batch in batch(X,y,batchSize):\n",
    "            weights, bias, MSE = grad_descent(X_batch,y_batch,weights,bias,lrate)\n",
    "            batch_loss.append(MSE)\n",
    "\n",
    "        loss.append(np.mean(batch_loss))\n",
    "    return weights, bias, loss, batch_loss     "
   ]
  },
  {
   "cell_type": "code",
   "execution_count": 5,
   "metadata": {},
   "outputs": [],
   "source": [
    "# batch size 1\n",
    "model1 = minibatchGD(X,y,1,2000,0.0001)"
   ]
  },
  {
   "cell_type": "code",
   "execution_count": 6,
   "metadata": {},
   "outputs": [],
   "source": [
    "# batch size 10\n",
    "model2 = minibatchGD(X,y,10,2000,0.0001)"
   ]
  },
  {
   "cell_type": "code",
   "execution_count": 7,
   "metadata": {},
   "outputs": [],
   "source": [
    "# batch size 100\n",
    "model3 = minibatchGD(X,y,100,2000,0.0001)"
   ]
  },
  {
   "cell_type": "code",
   "execution_count": 8,
   "metadata": {},
   "outputs": [
    {
     "name": "stdout",
     "output_type": "stream",
     "text": [
      "200000 20000 2000\n"
     ]
    }
   ],
   "source": [
    "batch_loss1 = model1[-1]\n",
    "batch_loss2 = model2[-1]\n",
    "batch_loss3 = model3[-1]\n",
    "\n",
    "print(len(batch_loss1), len(batch_loss2), len(batch_loss3))"
   ]
  },
  {
   "cell_type": "code",
   "execution_count": 9,
   "metadata": {},
   "outputs": [
    {
     "data": {
      "image/png": "[encoded data removed]",
      "text/plain": [
       "<Figure size 1080x360 with 3 Axes>"
      ]
     },
     "metadata": {
      "needs_background": "light"
     },
     "output_type": "display_data"
    }
   ],
   "source": [
    "fig, axes = plt.subplots(1,3, sharey=True, figsize=(15,5))\n",
    "axes[0].plot(np.arange(len(batch_loss1[:100])), batch_loss1[:100])\n",
    "axes[1].plot(np.arange(len(batch_loss2[:100])), batch_loss2[:100])\n",
    "axes[2].plot(np.arange(len(batch_loss3[:100])), batch_loss3[:100])\n",
    "\n",
    "axes[0].set_xlabel('batch #', fontsize=18)\n",
    "axes[0].set_ylabel('Loss', fontsize=18)\n",
    "\n",
    "axes[0].set_title(\"batch size = 1\", fontsize=18)\n",
    "axes[1].set_title(\"batch size = 10\", fontsize=18)\n",
    "axes[2].set_title(\"batch size = 100\", fontsize=18)\n",
    "\n",
    "for ax in axes:\n",
    "    ax.spines['top'].set_visible(False)\n",
    "    ax.spines['right'].set_visible(False)\n",
    "\n",
    "plt.show()"
   ]
  }
 ],
 "metadata": {
  "kernelspec": {
   "display_name": "Python [conda env:snowflake] *",
   "language": "python",
   "name": "conda-env-snowflake-py"
  },
  "language_info": {
   "codemirror_mode": {
    "name": "ipython",
    "version": 3
   },
   "file_extension": ".py",
   "mimetype": "text/x-python",
   "name": "python",
   "nbconvert_exporter": "python",
   "pygments_lexer": "ipython3",
   "version": "3.7.5"
  },
  "toc": {
   "base_numbering": 1,
   "nav_menu": {},
   "number_sections": false,
   "sideBar": true,
   "skip_h1_title": false,
   "title_cell": "Table of Contents",
   "title_sidebar": "Contents",
   "toc_cell": false,
   "toc_position": {},
   "toc_section_display": true,
   "toc_window_display": false
  }
 },
 "nbformat": 4,
 "nbformat_minor": 2
}
