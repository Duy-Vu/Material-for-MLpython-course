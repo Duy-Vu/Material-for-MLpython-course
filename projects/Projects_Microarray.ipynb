{
 "cells": [
  {
   "cell_type": "markdown",
   "metadata": {},
   "source": [
    "<a id='LoadDataset'></a>\n",
    "<div class=\" alert alert-info\">\n",
    "    \n",
    "# Introduction   \n",
    " \n",
    "</div>"
   ]
  },
  {
   "cell_type": "markdown",
   "metadata": {},
   "source": [
    "## Analyses of microarray gene expression data\n",
    "\n",
    "### (300 points)\n",
    "\n",
    "\"A DNA microarray (also commonly known as DNA chip or biochip) is a collection of microscopic DNA spots attached to a solid surface. Scientists use DNA microarrays to measure the expression levels of large numbers of genes simultaneously or to genotype multiple regions of a genome.\" [link](https://en.wikipedia.org/wiki/DNA_microarray)\n",
    "\n",
    "<img src=\"microarray.png\" alt=\"Drawing\" style=\"width: 500px;\"/>\n",
    "\n",
    "\n",
    "[image source](https://www.researchgate.net/figure/Schematic-representation-of-the-DNA-microarray-methodology-DNA-microarrays-are-commonly_fig3_235431026)\n",
    "\n",
    "**DATA**\n",
    "\n",
    "The microarray data for this problem consist of normalized relative expression of certain genes measured in different tissue.\n",
    "There are 22283 gene probes and 5373 samples. \n",
    "The full dataset can be loaded from https://www.ebi.ac.uk/arrayexpress/ (accession number E-MTAB-62). Load the processed data and 'Sample and data relationship' file. The 'Sample and data relationship' file contatins annotations for all samples. Annotations are based on the relevance of the sample to a certain type of tissue. There are bigger meta-groups (e.g. 'cell line', 'disease', 'neoplasm', 'normal') and finer divisions (6, 15, 96, 369 groups). The gene expression data and annotations of the sample can be accesssed by sample id (e.g. '1102960533.CEL'). \n",
    "\n",
    "**Note!** Use first 10 000 probes expression data, as using full dataset might be slow and require more computational resources. \n",
    "\n",
    "\n",
    "**Related articles**\n",
    "- https://www.nature.com/articles/srep25696#Sec8\n",
    "- https://www.nature.com/articles/nbt0410-322\n",
    "\n",
    "\n",
    "**Choose from two tasks (each 300 points):**\n",
    "\n",
    "### Subproblem 1. PCA and clustering of microarray gene expression data \n",
    "\n",
    "The task is to perform clustering of the array data after reducing the dimensionality of the data with PCA.\n",
    "Compare if the clusters you have obtained represent any bologically defined group.\n",
    "For example, you can obtain 6 clusters and compare if these clusters corresponds to meta-group containing 6 tissue types.\n",
    "\n",
    "\n",
    "### Subproblem 2. PCA and classification of microarray gene expression data\n",
    "\n",
    "Alternatively, we can define this problem as classification problem, where annotations will serve as sample labels. The task is to implement PCA, classification and perform model validation.\n",
    "In the simplest scenario, you can divide dataset into two parts, training and test sets.\n",
    "Alternatively, you can perfome cross-validation with e.g. K-folds.\n",
    "\n",
    "**Note!** Think about when to transform the data with PCA, before or after splitting the data? If PCA performed after data splitting, should it be done only on training dataset and test data projected on principal components of the training set or PCA should be performed separately on training and test dataset?\n",
    "\n",
    "**Note!!** The groups defined by annotations are not of equal size (unbalanced). Take into account when splitting the data or perfoming any kind of analyses."
   ]
  },
  {
   "cell_type": "markdown",
   "metadata": {},
   "source": [
    "<a id='LoadDataset'></a>\n",
    "<div class=\" alert alert-info\">\n",
    "    \n",
    "# Problem Formulation\n",
    "        \n",
    "</div>\n",
    "\n",
    "Formulate the application as a ML problem by explaining what data points are, what features and labels characterize data points, what hypothesis space (linear predictors, decision trees..) is used and what loss function is used to measure the quality of a predictor or method."
   ]
  },
  {
   "cell_type": "markdown",
   "metadata": {},
   "source": [
    "<a id='LoadDataset'></a>\n",
    "<div class=\" alert alert-info\">\n",
    "    \n",
    "# Methods\n",
    "    \n",
    "</div>\n",
    "\n",
    "Explain how you applied ML methods to solve the problem. How did you obtain data (from wikidata.org or your own data files?). How did you split data into training and validation? How did you learn the predictor (which Python library?)."
   ]
  },
  {
   "cell_type": "markdown",
   "metadata": {},
   "source": [
    "<a id='LoadDataset'></a>\n",
    "<div class=\" alert alert-info\">\n",
    "    \n",
    "# Results\n",
    "    \n",
    "</div>\n",
    "\n",
    "Discuss the results obtained from the methods. What is the training/validation error? How do the results depend on the hyper-parameters of the methods?"
   ]
  },
  {
   "cell_type": "markdown",
   "metadata": {},
   "source": [
    "<a id='LoadDataset'></a>\n",
    "<div class=\" alert alert-info\">\n",
    "    \n",
    "# Conclusions\n",
    "    \n",
    "</div>\n",
    "\n",
    "Summarize the main findings during the project work and outline avenues for future work. Are the results suggesting that the problem is solved satisfactoriy or might there be room for improvement?"
   ]
  }
 ],
 "metadata": {
  "kernelspec": {
   "display_name": "Python [conda env:snowflake] *",
   "language": "python",
   "name": "conda-env-snowflake-py"
  },
  "language_info": {
   "codemirror_mode": {
    "name": "ipython",
    "version": 3
   },
   "file_extension": ".py",
   "mimetype": "text/x-python",
   "name": "python",
   "nbconvert_exporter": "python",
   "pygments_lexer": "ipython3",
   "version": "3.7.5"
  },
  "toc": {
   "base_numbering": 1,
   "nav_menu": {},
   "number_sections": false,
   "sideBar": true,
   "skip_h1_title": false,
   "title_cell": "Table of Contents",
   "title_sidebar": "Contents",
   "toc_cell": false,
   "toc_position": {},
   "toc_section_display": true,
   "toc_window_display": false
  }
 },
 "nbformat": 4,
 "nbformat_minor": 2
}
