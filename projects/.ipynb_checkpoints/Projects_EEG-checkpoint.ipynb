{
 "cells": [
  {
   "cell_type": "markdown",
   "metadata": {},
   "source": [
    "<a id='LoadDataset'></a>\n",
    "<div class=\" alert alert-info\">\n",
    "    \n",
    "# Introduction   \n",
    " \n",
    "</div>"
   ]
  },
  {
   "cell_type": "markdown",
   "metadata": {},
   "source": [
    "## Sleep stages classification of rodent EEG signal\n",
    "\n",
    "\n",
    "\"Electroencephalography (EEG) is an electrophysiological monitoring method to record electrical activity of the brain. EEG measures voltage fluctuations resulting from ionic current within the neurons of the brain\" [link](https://en.wikipedia.org/wiki/Electroencephalography)\n",
    "\n",
    "\n",
    "In the current task you will have to build a classifier for automatically assigning the brain activity state based on the EEG recording. \n",
    "\n",
    "<img src=\"eeg.png\" alt=\"Drawing\" style=\"width: 600px;\"/>\n",
    "\n",
    "[image source](https://www.nature.com/articles/s41598-019-51269-8)\n",
    "\n",
    "**DATA**\n",
    "\n",
    "Approximately 4 hours of EEG recordings of 34 animals. The sampling rate of the EEG signal is 200 Hz. \n",
    "EEG signals were manually analyzed at 4 seconds time intervals and labels were assigned to each of these 4s time intervals (which are also called epochs).\n",
    "\n",
    "Labels are codes (0,1,2,3,8) for different classes, where 0 is Wake state, 1 - NREM sleep, 2 - REM sleep, 3 - Artefact, 8 - not analyzed. \n",
    "\n",
    "For example, if you have recording with 1600 data points at the sampling rate 200 Hz, the time of recording is 8 seconds or 2 epochs, therefore 2 labels will be assigned to this recording.\n",
    "\n",
    "The EEG data is in 'EEG.npy' file, where you will find recordings of 34 animals. EEG recording is divided into 4000 x 4s intervals (4s = 800 data points at frequency 200 Hz), therefore the shape of the whole numpy array is (34,4000,800). \n",
    "The file 'EEG_codes.npy' contains lables of the 4s epoches (shape of the numpy array is (34, 4000)).\n",
    "\n",
    "The epochs with label '8' (and associated EEG signal) should be removed from classification.\n",
    "\n",
    "Classifier should be validated with validation and/or test sets. In addition, you can build several classifiers and compare the classifiers with cross-validation methods.\n",
    "\n",
    "**Hint!** You have to think what to use as a feature for building a  classifier. One option is to extract power spectrum of each epoch and use it as a vector of features. One of the common ways to get power-frequency information from a signal is Fourier transformation. In Python you can check `spectrogram` and `hann` from `scipy.signal` to perform fast fourier transform with Hanning window (typically of size 256 for EEG signal).\n",
    "It is advisable to filter out the lower frequencies (below 1.5-2 Hz) as they usually represent moving artefacts. \n",
    "\n",
    "You can also use other feature extracting/dimensionality reduction methods such as PCA.\n",
    "\n",
    "**Note!** EEG signal collected from each animal is unique and the quality of the recording is dependent on many factors. Therefore, even the values range of EEG signal may differ from animal to animal and you might want to use some sort of normalization to account for this effect. \n",
    "\n",
    "**Note!!** The data is highly unbalanced, while 'Wake' and 'NREM' represent majority of the recording, 'REM' signal is much more rare and 'Artefact' is anomaly of the recording. Therefore, you might want to filter out 'Artefact' data and select part of the data with equal representation of 'Wake', 'NREM' and 'REM'. Alternatevily, you can try to build an artefact detection method, to detect faulted eeg recording segments. \n"
   ]
  },
  {
   "cell_type": "markdown",
   "metadata": {},
   "source": [
    "<a id='LoadDataset'></a>\n",
    "<div class=\" alert alert-info\">\n",
    "    \n",
    "# Problem Formulation\n",
    "    \n",
    "</div>\n",
    "\n",
    "Formulate the application as a ML problem by explaining what data points are, what features and labels characterize data points, what hypothesis space (linear predictors, decision trees..) is used and what loss function is used to measure the quality of a predictor or method."
   ]
  },
  {
   "cell_type": "markdown",
   "metadata": {},
   "source": [
    "<a id='LoadDataset'></a>\n",
    "<div class=\" alert alert-info\">\n",
    "    \n",
    "# Methods\n",
    "    \n",
    "</div>\n",
    "\n",
    "Explain how you applied ML methods to solve the problem. How did you obtain data (from wikidata.org or your own data files?). How did you split data into training and validation? How did you learn the predictor (which Python library?)."
   ]
  },
  {
   "cell_type": "markdown",
   "metadata": {},
   "source": [
    "<a id='LoadDataset'></a>\n",
    "<div class=\" alert alert-info\">\n",
    "    \n",
    "# Results\n",
    "    \n",
    "</div>\n",
    "\n",
    "Discuss the results obtained from the methods. What is the training/validation error? How do the results depend on the hyper-parameters of the methods?"
   ]
  },
  {
   "cell_type": "markdown",
   "metadata": {},
   "source": [
    "<a id='LoadDataset'></a>\n",
    "<div class=\" alert alert-info\">\n",
    "    \n",
    "# Conclusions\n",
    "    \n",
    "</div>\n",
    "\n",
    "Summarize the main findings during the project work and outline avenues for future work. Are the results suggesting that the problem is solved satisfactoriy or might there be room for improvement?"
   ]
  }
 ],
 "metadata": {
  "kernelspec": {
   "display_name": "Python [conda env:snowflake] *",
   "language": "python",
   "name": "conda-env-snowflake-py"
  },
  "language_info": {
   "codemirror_mode": {
    "name": "ipython",
    "version": 3
   },
   "file_extension": ".py",
   "mimetype": "text/x-python",
   "name": "python",
   "nbconvert_exporter": "python",
   "pygments_lexer": "ipython3",
   "version": "3.7.5"
  },
  "toc": {
   "base_numbering": 1,
   "nav_menu": {},
   "number_sections": false,
   "sideBar": true,
   "skip_h1_title": false,
   "title_cell": "Table of Contents",
   "title_sidebar": "Contents",
   "toc_cell": false,
   "toc_position": {},
   "toc_section_display": true,
   "toc_window_display": false
  }
 },
 "nbformat": 4,
 "nbformat_minor": 2
}
